{
 "cells": [
  {
   "cell_type": "markdown",
   "metadata": {},
   "source": [
    "___\n",
    "<img style=\"float: right; margin: 0px 0px 15px 15px;\" src=\"https://i.stack.imgur.com/rUI8q.png\" width=\"300px\" height=\"100px\" />\n",
    "\n",
    "<font color= #2E9AFE>  `Estudiante1`</font>\n",
    "# <font color= blue> Simulación de Procesos Financieros.</font>\n",
    "#### <font color= #2E9AFE>  `¿Qué espero de la materia?`</font>\n",
    "- <Strong> Aprender a programar de manera vectorizada y funcional. </Strong>\n",
    "- <Strong> Utilizar herramientas matemáticas con el fin de crear simulaciones Montecarlo.  </Strong>\n",
    "- <Strong> Realizar la valuación de opciones vainilla, Asiática, Americana y Barrera. </Strong> \n",
    "- <Strong> Solucionar problemas prácticos mediante valuación de opciones. </Strong>  \n",
    "___"
   ]
  },
  {
   "cell_type": "markdown",
   "metadata": {},
   "source": [
    "# Python is becoming the world’s most popular coding language\n",
    "\n",
    "> De acuerdo con el artículo publicado por \"The Economist\" en 2018, Guido Van Rossum, uno de los encargados de Python en 1989 no esperaba que el lenguaje fuese tan consumido por las masas. \n",
    "\n",
    "> Además, se indica que durante el 2018, Python tuvo más búsquedas en Google que la famosa super estrella Kim Kardashian.\n",
    "\n",
    "> Indican que los dos factores más importantes del lenguaje son su **simplicidad** y **flexibilidad** los cuales se ven reflejados en los más de 145,000 paquetes creados por los usuarios disponibles online.\n",
    "\n",
    "> De acuerdo con el artículo, para el 2018 los 6 lenguajes de programación más populares eran los siguientes:\n",
    "\n",
    "| $Ranking$ | $Lenguaje$ |\n",
    "|---------|------------------------------|\n",
    "|  $1$      | Java                     |\n",
    "| $2$       | C                        |\n",
    "| $3$       | C++                      |\n",
    "| $4$       | Python                   |\n",
    "| $5$       | C#                       |\n",
    "| $6$       | Visual Basic             |\n",
    "\n",
    "\n",
    "##### `Referencia `\n",
    "> The Economist (2018). <em> Python is becoming the world’s most popular coding language. </em> Obtenido el 31 de enero del 2018, de https://www.economist.com/graphic-detail/2018/07/26/python-is-becoming-the-worlds-most-popular-coding-language"
   ]
  },
  {
   "cell_type": "markdown",
   "metadata": {},
   "source": [
    "# Transcribir Imagen"
   ]
  },
  {
   "cell_type": "markdown",
   "metadata": {},
   "source": [
    "\n",
    "1. ${\\mathrm{La\\ fórmula\\ del\\ rectángulo\\ se\\ obtiene\\ al\\ interpolar\\ a}}$ $f(x)$  ${\\mathrm{por\\ medio\\ del\\ polinomio\\ constante}}$  $p_0(x) = f(\\tiny\\displaystyle\\frac{a+b}{2})$.\n",
    "\n",
    "\\begin{align} \\int_a^b f(x)\\ dx &\\approx (b-a) f(\\displaystyle\\frac{a+b}{2})=R(f). \\end{align}\n",
    "\n",
    "\n",
    "2. ${\\mathrm{La\\ fórmula\\ del\\ trapecio\\ se\\ obtiene\\ al\\ interpolar\\ a}}$ $f$  ${\\mathrm{por\\ medio\\ de\\ un\\ polinomio\\ lineal }}$ $p_1(x) = \\alpha x + \\beta$ ${\\mathrm{que\\ satisfaga}}$ $f(a) = p_1 (a), \\ y \\ f(b)=p_1 (b).$ ${\\mathrm{Determinar\\ el\\ polinomio\\ real\\ es\\ equivalente\\ a\\ resolver\\ un}}$ ${\\mathrm{sistema\\ de\\ ecuaciones\\ lineales\\ para\\ \\alpha \\ y\\ \\beta \\ cuya\\ solución\\ es}}$ \n",
    "\n",
    "\n",
    "\\begin{align} \\alpha = \\displaystyle\\frac{f(b)-f(a)}{b-a} \\quad   & \\beta = \\displaystyle\\frac{f(b)a-f(a)b}{b-a}. \\end{align}\n",
    "\n",
    "\n",
    "${\\mathrm{\\quad \\; \\; Al\\ integrar}}$ $p_1 (x)$ ${\\mathrm{en\\ el\\ intervalo}}$ $[a,b]$ ${\\mathrm{se\\ obtiene\\ la\\ regla\\ del\\ trapecio\\ con}}$ $h=b-a$\n",
    "\n",
    "\n",
    "\\begin{align} \\int_a^b f(x)\\ dx \\approx \\int_a^b p_1 (x)\\ dx = \\displaystyle\\frac{h}{2} (f(a)+f(b)) = T(f). \\end{align}\n",
    "\n",
    "${\\mathrm{\\quad \\; \\; El\\ error\\ está\\ dado\\ por}}$\n",
    "\n",
    "\\begin{align} \\int_a^b f(x)\\ dx - T(f) = -\\displaystyle\\frac{h^3}{12} (f''(\\eta))\\ , \\quad a< \\eta< b. \\end{align}\n",
    "\n",
    "3. ${\\mathrm{Por\\ último\\ al\\ integrar\\ el\\ polinomio\\ cuadrático\\ que\\ interpola\\ a}}$ $f$  ${\\mathrm{en}}$  $x = a, x=\\tiny\\displaystyle\\frac{a+b}{2}$ ${\\mathrm{,\\ y}}$ $x = b$ ${\\mathrm{se\\ obtiene\\ la\\ regla\\ de\\ Simpson\\ con}}$ $h = \\tiny\\displaystyle\\frac{b-a}{2}$\n",
    "\n",
    "\\begin{align} \\int_a^b f(x)\\ dx \\approx \\int_a^b p_2 (x)\\ dx = \\displaystyle\\frac{h}{3} (f(a)+4f(a+h)+f(b))\\ = S(f). \\end{align}\n",
    "\n",
    "\n",
    "${\\mathrm{\\quad \\; \\; El\\ error\\ que\\ se\\ comete\\ por\\ usar\\ Simpson\\ es}}$\n",
    "\n",
    "\\begin{align} \\int_a^b f(x)\\ dx - S(f) = \\displaystyle\\frac{h^5}{90} (f^{(4)} \\ (\\eta)) ,\\quad a< \\eta < b. \\end{align}"
   ]
  },
  {
   "cell_type": "markdown",
   "metadata": {},
   "source": [
    "<font color= #2E9AFE>  `Estudiante2`</font>"
   ]
  },
  {
   "cell_type": "markdown",
   "metadata": {},
   "source": [
    "## Expectativas del Curso"
   ]
  },
  {
   "cell_type": "markdown",
   "metadata": {},
   "source": [
    "1. Entender el funcionamiento de los temas que se verán\n",
    "2. Aprender algo nuevo\n",
    "3. Aprender como dar solución a problema(s) financieros por medio de simulación"
   ]
  },
  {
   "cell_type": "markdown",
   "metadata": {},
   "source": [
    "## Resumen Articulo \"Python se esta convirtiendo en el lenguaje de programación mas popular del mundo\".\n",
    " \n",
    "Aunque existan una gran cantidad de lenguajes de programación, hay uno que a traves de los años ha crecido bastante, mas que los demás que se mantienen o se usan menos cada vez, su nombre es Python y no es casualidad que ni el propio creador del lenguaje pueda creer el impacto que su creacion ha tenido, hay varias razones por las cuales Python es actualmente un monstruo:\n",
    "\n",
    "1. La flexibilidad que maneja\n",
    "2. La facilidad de aprenderlo\n",
    "3. Es sencillo utilizarlo\n",
    "4. Puede manejar y procesar grandes cantidades de información\n",
    "5. Es muy accesible y facil de compartir\n",
    "\n",
    "Como se muestra en la gráfica siguiente, el crecimiento de *Python* es muy notorio no solo en EUA si no que en todo el mundo.\n",
    "\n",
    "![alt text](https://www.economist.com/img/b/1280/1401/85/sites/default/files/20180728_WOC883.png \"python\")\n",
    "\n",
    "A pesar de el actual dominio de *Python*, expertos creen que el comportamiento de la popularidad de los lenguajes de programación son como los imperios humanos, que no duran para siempre ni eliminan por completo a la competencia, aunque sigue siendo impactante que en la actualidad se busca mas la palabra *Python* que *Kim Kardashian*, que es una figura publica, en el buscador de google en los Estados Unidos, o que grandes industrias y empresas como **PIXAR o SPOTIFY** hagan uso de Python ya sea para mejorar sus servicios o realizar una produccion. Asi que es correcto, Python es un muy popular lenguaje, pero nada le asegura su puesto en la cima por siempre."
   ]
  },
  {
   "cell_type": "code",
   "execution_count": 5,
   "metadata": {},
   "outputs": [
    {
     "name": "stdout",
     "output_type": "stream",
     "text": [
      "2\n",
      "3\n",
      "5\n",
      "7\n",
      "11\n",
      "13\n",
      "17\n",
      "19\n",
      "23\n",
      "29\n",
      "31\n",
      "37\n",
      "41\n",
      "43\n",
      "47\n",
      "53\n",
      "59\n",
      "61\n",
      "67\n",
      "71\n",
      "73\n",
      "79\n",
      "83\n",
      "89\n",
      "97\n"
     ]
    }
   ],
   "source": [
    "for val in range(0, 100): \n",
    "      \n",
    "   if val > 1: \n",
    "       for n in range(2, val): \n",
    "           if (val % n) == 0: \n",
    "               break\n",
    "       else: \n",
    "           print(val)"
   ]
  },
  {
   "cell_type": "code",
   "execution_count": null,
   "metadata": {},
   "outputs": [],
   "source": []
  }
 ],
 "metadata": {
  "kernelspec": {
   "display_name": "Python 3",
   "language": "python",
   "name": "python3"
  },
  "language_info": {
   "codemirror_mode": {
    "name": "ipython",
    "version": 3
   },
   "file_extension": ".py",
   "mimetype": "text/x-python",
   "name": "python",
   "nbconvert_exporter": "python",
   "pygments_lexer": "ipython3",
   "version": "3.6.5"
  }
 },
 "nbformat": 4,
 "nbformat_minor": 2
}
