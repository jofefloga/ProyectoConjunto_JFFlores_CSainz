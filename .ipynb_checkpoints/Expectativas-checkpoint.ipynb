{
 "cells": [
  {
   "cell_type": "markdown",
   "metadata": {},
   "source": [
    "## Expectativas del Curso"
   ]
  },
  {
   "cell_type": "markdown",
   "metadata": {},
   "source": [
    "1. Entender el funcionamiento de los temas que se verán\n",
    "2. Aprender algo nuevo\n",
    "3. Aprender como dar solución a problema(s) financieros por medio de simulación"
   ]
  },
  {
   "cell_type": "markdown",
   "metadata": {},
   "source": [
    " ## Resumen Articulo \"Python se esta convirtiendo en el lenguaje de programación mas popular del mundo\".\n",
    " \n",
    "Aunque existan una gran cantidad de lenguajes de programación, hay uno que a traves de los años ha crecido bastante, mas que los demás que se mantienen o se usan menos cada vez, su nombre es Python y no es casualidad que ni el propio creador del lenguaje pueda creer el impacto que su creacion ha tenido, hay varias razones por las cuales Python es actualmente un monstruo:\n",
    "\n",
    "1. La flexibilidad que maneja\n",
    "2. La facilidad de aprenderlo\n",
    "3. Es sencillo utilizarlo\n",
    "4. Puede manejar y procesar grandes cantidades de información\n",
    "5. Es muy accesible y facil de compartir\n",
    "\n",
    "Como se muestra en la gráfica siguiente, el crecimiento de *Python* es muy notorio no solo en EUA si no que en todo el mundo.\n",
    "\n",
    "![alt text](https://www.economist.com/img/b/1280/1401/85/sites/default/files/20180728_WOC883.png \"python\")\n",
    "\n",
    "A pesar de el actual dominio de *Python*, expertos creen que el comportamiento de la popularidad de los lenguajes de programación son como los imperios humanos, que no duran para siempre ni eliminan por completo a la competencia, aunque sigue siendo impactante que en la actualidad se busca mas la palabra *Python* que *Kim Kardashian*, que es una figura publica, en el buscador de google en los Estados Unidos, o que grandes industrias y empresas como **PIXAR o SPOTIFY** hagan uso de Python ya sea para mejorar sus servicios o realizar una produccion. Asi que es correcto, Python es un muy popular lenguaje, pero nada le asegura su puesto en la cima por siempre."
   ]
  },
  {
   "cell_type": "code",
   "execution_count": null,
   "metadata": {},
   "outputs": [],
   "source": []
  }
 ],
 "metadata": {
  "kernelspec": {
   "display_name": "Python 3",
   "language": "python",
   "name": "python3"
  },
  "language_info": {
   "codemirror_mode": {
    "name": "ipython",
    "version": 3
   },
   "file_extension": ".py",
   "mimetype": "text/x-python",
   "name": "python",
   "nbconvert_exporter": "python",
   "pygments_lexer": "ipython3",
   "version": "3.6.5"
  }
 },
 "nbformat": 4,
 "nbformat_minor": 2
}
